{
  "nbformat": 4,
  "nbformat_minor": 0,
  "metadata": {
    "colab": {
      "provenance": [],
      "mount_file_id": "1dMLhl9N1rvoQ0Wvd93LZ8LOhTSkKsSfF",
      "authorship_tag": "ABX9TyOAhdPHdwNgY9/Srune1eYP",
      "include_colab_link": true
    },
    "kernelspec": {
      "name": "python3",
      "display_name": "Python 3"
    },
    "language_info": {
      "name": "python"
    }
  },
  "cells": [
    {
      "cell_type": "markdown",
      "metadata": {
        "id": "view-in-github",
        "colab_type": "text"
      },
      "source": [
        "<a href=\"https://colab.research.google.com/github/HemaJoy/Mainflow/blob/main/Task2.ipynb\" target=\"_parent\"><img src=\"https://colab.research.google.com/assets/colab-badge.svg\" alt=\"Open In Colab\"/></a>"
      ]
    },
    {
      "cell_type": "code",
      "execution_count": 3,
      "metadata": {
        "colab": {
          "base_uri": "https://localhost:8080/",
          "height": 0
        },
        "id": "F2a9KaBhHn8L",
        "outputId": "ab33438c-cf64-4701-f019-9167f598610a"
      },
      "outputs": [
        {
          "output_type": "stream",
          "name": "stdout",
          "text": [
            "PassengerId      0\n",
            "Survived         0\n",
            "Pclass           0\n",
            "Name             0\n",
            "Sex              0\n",
            "Age            177\n",
            "SibSp            0\n",
            "Parch            0\n",
            "Ticket           0\n",
            "Fare             0\n",
            "Cabin          687\n",
            "Embarked         2\n",
            "dtype: int64\n",
            "Summary statistics for the DataFrame:\n",
            "        PassengerId    Survived      Pclass         Age       SibSp  \\\n",
            "count   891.000000  891.000000  891.000000  891.000000  891.000000   \n",
            "mean    446.000000    0.383838    2.308642   29.699118    0.523008   \n",
            "std     257.353842    0.486592    0.836071   13.002015    1.102743   \n",
            "min       1.000000    0.000000    1.000000    0.420000    0.000000   \n",
            "25%     223.500000    0.000000    2.000000   22.000000    0.000000   \n",
            "50%     446.000000    0.000000    3.000000   29.699118    0.000000   \n",
            "75%     668.500000    1.000000    3.000000   35.000000    1.000000   \n",
            "max     891.000000    1.000000    3.000000   80.000000    8.000000   \n",
            "\n",
            "            Parch        Fare  \n",
            "count  891.000000  891.000000  \n",
            "mean     0.381594   32.204208  \n",
            "std      0.806057   49.693429  \n",
            "min      0.000000    0.000000  \n",
            "25%      0.000000    7.910400  \n",
            "50%      0.000000   14.454200  \n",
            "75%      0.000000   31.000000  \n",
            "max      6.000000  512.329200  \n",
            "Mean Age: 29.69911764705882\n",
            "Median Age: 29.69911764705882\n",
            "Standard Deviation of Age: 13.002015226002882\n"
          ]
        }
      ],
      "source": [
        "import pandas as pd\n",
        "import os\n",
        "\n",
        "# Ensure the file path is correct\n",
        "file_path = 'titanic.csv'\n",
        "# Load the CSV file into a DataFrame\n",
        "df = pd.read_csv(file_path)\n",
        "filtered_df = df[df['Age'] > 30]\n",
        "missing_values = df.isnull().sum()\n",
        "print(missing_values)\n",
        "\n",
        "# b. Fill missing values in the 'Age' column with the mean\n",
        "df['Age'].fillna(df['Age'].mean(), inplace=True)\n",
        "df.dropna(subset=['Fare'], inplace=True)\n",
        "# Step 4: Calculate summary statistics\n",
        "# a. Descriptive statistics for the entire DataFrame\n",
        "summary_stats = df.describe()\n",
        "print(\"Summary statistics for the DataFrame:\\n\", summary_stats)\n",
        "    # b. Specific statistics for the 'Age' column\n",
        "mean_age = df['Age'].mean()\n",
        "median_age = df['Age'].median()\n",
        "std_age = df['Age'].std()\n",
        "\n",
        "print(f\"Mean Age: {mean_age}\")\n",
        "print(f\"Median Age: {median_age}\") # Removed extra indent here\n",
        "print(f\"Standard Deviation of Age: {std_age}\")"
      ]
    }
  ]
}